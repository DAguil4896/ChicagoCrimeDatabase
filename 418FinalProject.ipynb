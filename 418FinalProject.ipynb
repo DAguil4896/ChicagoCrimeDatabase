{
 "cells": [
  {
   "cell_type": "code",
   "execution_count": 25,
   "metadata": {},
   "outputs": [],
   "source": [
    "import pandas as pd\n",
    "from glob import glob\n",
    "import numpy as np\n",
    "import matplotlib.pyplot as plt\n",
    "import matplotlib.cm as cm\n",
    "import seaborn as sns\n",
    "import datetime\n",
    "from IPython.display import display\n",
    "from sklearn import metrics \n",
    "from sklearn.datasets import make_blobs, make_circles \n",
    "from sklearn.preprocessing import StandardScaler \n",
    "from sklearn.cluster import KMeans \n",
    "from sklearn.cluster import DBSCAN"
   ]
  },
  {
   "cell_type": "code",
   "execution_count": 26,
   "metadata": {},
   "outputs": [
    {
     "data": {
      "text/html": [
       "<div>\n",
       "<style scoped>\n",
       "    .dataframe tbody tr th:only-of-type {\n",
       "        vertical-align: middle;\n",
       "    }\n",
       "\n",
       "    .dataframe tbody tr th {\n",
       "        vertical-align: top;\n",
       "    }\n",
       "\n",
       "    .dataframe thead th {\n",
       "        text-align: right;\n",
       "    }\n",
       "</style>\n",
       "<table border=\"1\" class=\"dataframe\">\n",
       "  <thead>\n",
       "    <tr style=\"text-align: right;\">\n",
       "      <th></th>\n",
       "      <th>Date</th>\n",
       "      <th>Primary Type</th>\n",
       "      <th>Description</th>\n",
       "      <th>Location Description</th>\n",
       "      <th>Arrest</th>\n",
       "      <th>Domestic</th>\n",
       "      <th>District</th>\n",
       "      <th>Community Area</th>\n",
       "      <th>FBI Code</th>\n",
       "    </tr>\n",
       "  </thead>\n",
       "  <tbody>\n",
       "    <tr>\n",
       "      <th>0</th>\n",
       "      <td>04/02/2006 01:00:00 PM</td>\n",
       "      <td>OTHER OFFENSE</td>\n",
       "      <td>HARASSMENT BY TELEPHONE</td>\n",
       "      <td>RESIDENCE</td>\n",
       "      <td>False</td>\n",
       "      <td>False</td>\n",
       "      <td>16.0</td>\n",
       "      <td>11.0</td>\n",
       "      <td>26</td>\n",
       "    </tr>\n",
       "    <tr>\n",
       "      <th>1</th>\n",
       "      <td>02/26/2006 01:40:48 PM</td>\n",
       "      <td>NARCOTICS</td>\n",
       "      <td>MANU/DELIVER:CRACK</td>\n",
       "      <td>SIDEWALK</td>\n",
       "      <td>True</td>\n",
       "      <td>False</td>\n",
       "      <td>3.0</td>\n",
       "      <td>42.0</td>\n",
       "      <td>18</td>\n",
       "    </tr>\n",
       "    <tr>\n",
       "      <th>2</th>\n",
       "      <td>01/08/2006 11:16:00 PM</td>\n",
       "      <td>ASSAULT</td>\n",
       "      <td>AGGRAVATED: HANDGUN</td>\n",
       "      <td>OTHER</td>\n",
       "      <td>False</td>\n",
       "      <td>False</td>\n",
       "      <td>3.0</td>\n",
       "      <td>69.0</td>\n",
       "      <td>04A</td>\n",
       "    </tr>\n",
       "    <tr>\n",
       "      <th>3</th>\n",
       "      <td>04/05/2006 06:45:00 PM</td>\n",
       "      <td>BATTERY</td>\n",
       "      <td>SIMPLE</td>\n",
       "      <td>RESIDENCE</td>\n",
       "      <td>False</td>\n",
       "      <td>False</td>\n",
       "      <td>16.0</td>\n",
       "      <td>17.0</td>\n",
       "      <td>08B</td>\n",
       "    </tr>\n",
       "    <tr>\n",
       "      <th>4</th>\n",
       "      <td>02/17/2006 09:03:14 PM</td>\n",
       "      <td>NARCOTICS</td>\n",
       "      <td>POSS: CANNABIS 30GMS OR LESS</td>\n",
       "      <td>ALLEY</td>\n",
       "      <td>True</td>\n",
       "      <td>False</td>\n",
       "      <td>8.0</td>\n",
       "      <td>65.0</td>\n",
       "      <td>18</td>\n",
       "    </tr>\n",
       "    <tr>\n",
       "      <th>5</th>\n",
       "      <td>03/30/2006 10:30:00 PM</td>\n",
       "      <td>ASSAULT</td>\n",
       "      <td>SIMPLE</td>\n",
       "      <td>APARTMENT</td>\n",
       "      <td>True</td>\n",
       "      <td>False</td>\n",
       "      <td>7.0</td>\n",
       "      <td>67.0</td>\n",
       "      <td>08A</td>\n",
       "    </tr>\n",
       "    <tr>\n",
       "      <th>6</th>\n",
       "      <td>04/05/2006 12:10:00 PM</td>\n",
       "      <td>BATTERY</td>\n",
       "      <td>SIMPLE</td>\n",
       "      <td>SCHOOL, PUBLIC, BUILDING</td>\n",
       "      <td>True</td>\n",
       "      <td>False</td>\n",
       "      <td>16.0</td>\n",
       "      <td>11.0</td>\n",
       "      <td>08B</td>\n",
       "    </tr>\n",
       "    <tr>\n",
       "      <th>7</th>\n",
       "      <td>04/05/2006 03:00:00 PM</td>\n",
       "      <td>THEFT</td>\n",
       "      <td>$500 AND UNDER</td>\n",
       "      <td>STREET</td>\n",
       "      <td>False</td>\n",
       "      <td>False</td>\n",
       "      <td>8.0</td>\n",
       "      <td>66.0</td>\n",
       "      <td>06</td>\n",
       "    </tr>\n",
       "    <tr>\n",
       "      <th>8</th>\n",
       "      <td>04/05/2006 09:30:00 PM</td>\n",
       "      <td>ASSAULT</td>\n",
       "      <td>SIMPLE</td>\n",
       "      <td>PARKING LOT/GARAGE(NON.RESID.)</td>\n",
       "      <td>False</td>\n",
       "      <td>False</td>\n",
       "      <td>12.0</td>\n",
       "      <td>24.0</td>\n",
       "      <td>08A</td>\n",
       "    </tr>\n",
       "    <tr>\n",
       "      <th>9</th>\n",
       "      <td>04/03/2006 03:00:00 AM</td>\n",
       "      <td>BATTERY</td>\n",
       "      <td>DOMESTIC BATTERY SIMPLE</td>\n",
       "      <td>SIDEWALK</td>\n",
       "      <td>False</td>\n",
       "      <td>True</td>\n",
       "      <td>3.0</td>\n",
       "      <td>42.0</td>\n",
       "      <td>08B</td>\n",
       "    </tr>\n",
       "  </tbody>\n",
       "</table>\n",
       "</div>"
      ],
      "text/plain": [
       "                     Date   Primary Type                   Description  \\\n",
       "0  04/02/2006 01:00:00 PM  OTHER OFFENSE       HARASSMENT BY TELEPHONE   \n",
       "1  02/26/2006 01:40:48 PM      NARCOTICS            MANU/DELIVER:CRACK   \n",
       "2  01/08/2006 11:16:00 PM        ASSAULT           AGGRAVATED: HANDGUN   \n",
       "3  04/05/2006 06:45:00 PM        BATTERY                        SIMPLE   \n",
       "4  02/17/2006 09:03:14 PM      NARCOTICS  POSS: CANNABIS 30GMS OR LESS   \n",
       "5  03/30/2006 10:30:00 PM        ASSAULT                        SIMPLE   \n",
       "6  04/05/2006 12:10:00 PM        BATTERY                        SIMPLE   \n",
       "7  04/05/2006 03:00:00 PM          THEFT                $500 AND UNDER   \n",
       "8  04/05/2006 09:30:00 PM        ASSAULT                        SIMPLE   \n",
       "9  04/03/2006 03:00:00 AM        BATTERY       DOMESTIC BATTERY SIMPLE   \n",
       "\n",
       "             Location Description  Arrest  Domestic  District  Community Area  \\\n",
       "0                       RESIDENCE   False     False      16.0            11.0   \n",
       "1                        SIDEWALK    True     False       3.0            42.0   \n",
       "2                           OTHER   False     False       3.0            69.0   \n",
       "3                       RESIDENCE   False     False      16.0            17.0   \n",
       "4                           ALLEY    True     False       8.0            65.0   \n",
       "5                       APARTMENT    True     False       7.0            67.0   \n",
       "6        SCHOOL, PUBLIC, BUILDING    True     False      16.0            11.0   \n",
       "7                          STREET   False     False       8.0            66.0   \n",
       "8  PARKING LOT/GARAGE(NON.RESID.)   False     False      12.0            24.0   \n",
       "9                        SIDEWALK   False      True       3.0            42.0   \n",
       "\n",
       "  FBI Code  \n",
       "0       26  \n",
       "1       18  \n",
       "2      04A  \n",
       "3      08B  \n",
       "4       18  \n",
       "5      08A  \n",
       "6      08B  \n",
       "7       06  \n",
       "8      08A  \n",
       "9      08B  "
      ]
     },
     "metadata": {},
     "output_type": "display_data"
    }
   ],
   "source": [
    "#Begin by importing the datasets\n",
    "\n",
    "#We want to focus on these columns from the datasets\n",
    "colsUsed = ['Date', 'Primary Type', 'Description','Location Description', 'Arrest', 'Domestic', 'District', 'Community Area', 'FBI Code']\n",
    "\n",
    "#Import the csv files\n",
    "Chi5 = pd.read_csv('Chicago_Crimes_2005_to_2007.csv', usecols=colsUsed)\n",
    "Chi8 = pd.read_csv('Chicago_Crimes_2008_to_2011.csv', usecols=colsUsed)\n",
    "Chi12 = pd.read_csv('Chicago_Crimes_2012_to_2017.csv', usecols=colsUsed)\n",
    "\n",
    "merged = pd.concat([Chi5, Chi8], ignore_index = True)\n",
    "merged.to_csv(\"output.csv\")\n",
    "display(merged.head(10))"
   ]
  },
  {
   "cell_type": "code",
   "execution_count": 27,
   "metadata": {},
   "outputs": [
    {
     "data": {
      "text/html": [
       "<div>\n",
       "<style scoped>\n",
       "    .dataframe tbody tr th:only-of-type {\n",
       "        vertical-align: middle;\n",
       "    }\n",
       "\n",
       "    .dataframe tbody tr th {\n",
       "        vertical-align: top;\n",
       "    }\n",
       "\n",
       "    .dataframe thead th {\n",
       "        text-align: right;\n",
       "    }\n",
       "</style>\n",
       "<table border=\"1\" class=\"dataframe\">\n",
       "  <thead>\n",
       "    <tr style=\"text-align: right;\">\n",
       "      <th></th>\n",
       "      <th>Date</th>\n",
       "      <th>Primary Type</th>\n",
       "      <th>Description</th>\n",
       "      <th>Location Description</th>\n",
       "      <th>Arrest</th>\n",
       "      <th>Domestic</th>\n",
       "      <th>District</th>\n",
       "      <th>Community Area</th>\n",
       "      <th>FBI Code</th>\n",
       "    </tr>\n",
       "  </thead>\n",
       "  <tbody>\n",
       "    <tr>\n",
       "      <th>0</th>\n",
       "      <td>04/02/2006 01:00:00 PM</td>\n",
       "      <td>OTHER OFFENSE</td>\n",
       "      <td>HARASSMENT BY TELEPHONE</td>\n",
       "      <td>RESIDENCE</td>\n",
       "      <td>False</td>\n",
       "      <td>False</td>\n",
       "      <td>16.0</td>\n",
       "      <td>11.0</td>\n",
       "      <td>26</td>\n",
       "    </tr>\n",
       "    <tr>\n",
       "      <th>1</th>\n",
       "      <td>02/26/2006 01:40:48 PM</td>\n",
       "      <td>NARCOTICS</td>\n",
       "      <td>MANU/DELIVER:CRACK</td>\n",
       "      <td>SIDEWALK</td>\n",
       "      <td>True</td>\n",
       "      <td>False</td>\n",
       "      <td>3.0</td>\n",
       "      <td>42.0</td>\n",
       "      <td>18</td>\n",
       "    </tr>\n",
       "    <tr>\n",
       "      <th>2</th>\n",
       "      <td>01/08/2006 11:16:00 PM</td>\n",
       "      <td>ASSAULT</td>\n",
       "      <td>AGGRAVATED: HANDGUN</td>\n",
       "      <td>OTHER</td>\n",
       "      <td>False</td>\n",
       "      <td>False</td>\n",
       "      <td>3.0</td>\n",
       "      <td>69.0</td>\n",
       "      <td>04A</td>\n",
       "    </tr>\n",
       "    <tr>\n",
       "      <th>3</th>\n",
       "      <td>04/05/2006 06:45:00 PM</td>\n",
       "      <td>BATTERY</td>\n",
       "      <td>SIMPLE</td>\n",
       "      <td>RESIDENCE</td>\n",
       "      <td>False</td>\n",
       "      <td>False</td>\n",
       "      <td>16.0</td>\n",
       "      <td>17.0</td>\n",
       "      <td>08B</td>\n",
       "    </tr>\n",
       "    <tr>\n",
       "      <th>4</th>\n",
       "      <td>02/17/2006 09:03:14 PM</td>\n",
       "      <td>NARCOTICS</td>\n",
       "      <td>POSS: CANNABIS 30GMS OR LESS</td>\n",
       "      <td>ALLEY</td>\n",
       "      <td>True</td>\n",
       "      <td>False</td>\n",
       "      <td>8.0</td>\n",
       "      <td>65.0</td>\n",
       "      <td>18</td>\n",
       "    </tr>\n",
       "    <tr>\n",
       "      <th>5</th>\n",
       "      <td>03/30/2006 10:30:00 PM</td>\n",
       "      <td>ASSAULT</td>\n",
       "      <td>SIMPLE</td>\n",
       "      <td>APARTMENT</td>\n",
       "      <td>True</td>\n",
       "      <td>False</td>\n",
       "      <td>7.0</td>\n",
       "      <td>67.0</td>\n",
       "      <td>08A</td>\n",
       "    </tr>\n",
       "    <tr>\n",
       "      <th>6</th>\n",
       "      <td>04/05/2006 12:10:00 PM</td>\n",
       "      <td>BATTERY</td>\n",
       "      <td>SIMPLE</td>\n",
       "      <td>SCHOOL, PUBLIC, BUILDING</td>\n",
       "      <td>True</td>\n",
       "      <td>False</td>\n",
       "      <td>16.0</td>\n",
       "      <td>11.0</td>\n",
       "      <td>08B</td>\n",
       "    </tr>\n",
       "    <tr>\n",
       "      <th>7</th>\n",
       "      <td>04/05/2006 03:00:00 PM</td>\n",
       "      <td>THEFT</td>\n",
       "      <td>$500 AND UNDER</td>\n",
       "      <td>STREET</td>\n",
       "      <td>False</td>\n",
       "      <td>False</td>\n",
       "      <td>8.0</td>\n",
       "      <td>66.0</td>\n",
       "      <td>06</td>\n",
       "    </tr>\n",
       "    <tr>\n",
       "      <th>8</th>\n",
       "      <td>04/05/2006 09:30:00 PM</td>\n",
       "      <td>ASSAULT</td>\n",
       "      <td>SIMPLE</td>\n",
       "      <td>PARKING LOT/GARAGE(NON.RESID.)</td>\n",
       "      <td>False</td>\n",
       "      <td>False</td>\n",
       "      <td>12.0</td>\n",
       "      <td>24.0</td>\n",
       "      <td>08A</td>\n",
       "    </tr>\n",
       "    <tr>\n",
       "      <th>9</th>\n",
       "      <td>04/03/2006 03:00:00 AM</td>\n",
       "      <td>BATTERY</td>\n",
       "      <td>DOMESTIC BATTERY SIMPLE</td>\n",
       "      <td>SIDEWALK</td>\n",
       "      <td>False</td>\n",
       "      <td>True</td>\n",
       "      <td>3.0</td>\n",
       "      <td>42.0</td>\n",
       "      <td>08B</td>\n",
       "    </tr>\n",
       "  </tbody>\n",
       "</table>\n",
       "</div>"
      ],
      "text/plain": [
       "                     Date   Primary Type                   Description  \\\n",
       "0  04/02/2006 01:00:00 PM  OTHER OFFENSE       HARASSMENT BY TELEPHONE   \n",
       "1  02/26/2006 01:40:48 PM      NARCOTICS            MANU/DELIVER:CRACK   \n",
       "2  01/08/2006 11:16:00 PM        ASSAULT           AGGRAVATED: HANDGUN   \n",
       "3  04/05/2006 06:45:00 PM        BATTERY                        SIMPLE   \n",
       "4  02/17/2006 09:03:14 PM      NARCOTICS  POSS: CANNABIS 30GMS OR LESS   \n",
       "5  03/30/2006 10:30:00 PM        ASSAULT                        SIMPLE   \n",
       "6  04/05/2006 12:10:00 PM        BATTERY                        SIMPLE   \n",
       "7  04/05/2006 03:00:00 PM          THEFT                $500 AND UNDER   \n",
       "8  04/05/2006 09:30:00 PM        ASSAULT                        SIMPLE   \n",
       "9  04/03/2006 03:00:00 AM        BATTERY       DOMESTIC BATTERY SIMPLE   \n",
       "\n",
       "             Location Description  Arrest  Domestic  District  Community Area  \\\n",
       "0                       RESIDENCE   False     False      16.0            11.0   \n",
       "1                        SIDEWALK    True     False       3.0            42.0   \n",
       "2                           OTHER   False     False       3.0            69.0   \n",
       "3                       RESIDENCE   False     False      16.0            17.0   \n",
       "4                           ALLEY    True     False       8.0            65.0   \n",
       "5                       APARTMENT    True     False       7.0            67.0   \n",
       "6        SCHOOL, PUBLIC, BUILDING    True     False      16.0            11.0   \n",
       "7                          STREET   False     False       8.0            66.0   \n",
       "8  PARKING LOT/GARAGE(NON.RESID.)   False     False      12.0            24.0   \n",
       "9                        SIDEWALK   False      True       3.0            42.0   \n",
       "\n",
       "  FBI Code  \n",
       "0       26  \n",
       "1       18  \n",
       "2      04A  \n",
       "3      08B  \n",
       "4       18  \n",
       "5      08A  \n",
       "6      08B  \n",
       "7       06  \n",
       "8      08A  \n",
       "9      08B  "
      ]
     },
     "execution_count": 27,
     "metadata": {},
     "output_type": "execute_result"
    }
   ],
   "source": [
    "# Richard M. Daley mayor in years 1989-2011\n",
    "# This dataFrame will hold all crimes during Daley's 05-11 term\n",
    "daleyFull = merged\n",
    "daleyFull.head(10)"
   ]
  },
  {
   "cell_type": "code",
   "execution_count": 28,
   "metadata": {},
   "outputs": [
    {
     "data": {
      "text/html": [
       "<div>\n",
       "<style scoped>\n",
       "    .dataframe tbody tr th:only-of-type {\n",
       "        vertical-align: middle;\n",
       "    }\n",
       "\n",
       "    .dataframe tbody tr th {\n",
       "        vertical-align: top;\n",
       "    }\n",
       "\n",
       "    .dataframe thead th {\n",
       "        text-align: right;\n",
       "    }\n",
       "</style>\n",
       "<table border=\"1\" class=\"dataframe\">\n",
       "  <thead>\n",
       "    <tr style=\"text-align: right;\">\n",
       "      <th></th>\n",
       "      <th>Date</th>\n",
       "      <th>Primary Type</th>\n",
       "      <th>Description</th>\n",
       "      <th>Location Description</th>\n",
       "      <th>Arrest</th>\n",
       "      <th>Domestic</th>\n",
       "      <th>District</th>\n",
       "      <th>Community Area</th>\n",
       "      <th>FBI Code</th>\n",
       "    </tr>\n",
       "  </thead>\n",
       "  <tbody>\n",
       "    <tr>\n",
       "      <th>0</th>\n",
       "      <td>05/03/2016 11:40:00 PM</td>\n",
       "      <td>BATTERY</td>\n",
       "      <td>DOMESTIC BATTERY SIMPLE</td>\n",
       "      <td>APARTMENT</td>\n",
       "      <td>True</td>\n",
       "      <td>True</td>\n",
       "      <td>10.0</td>\n",
       "      <td>29.0</td>\n",
       "      <td>08B</td>\n",
       "    </tr>\n",
       "    <tr>\n",
       "      <th>1</th>\n",
       "      <td>05/03/2016 09:40:00 PM</td>\n",
       "      <td>BATTERY</td>\n",
       "      <td>DOMESTIC BATTERY SIMPLE</td>\n",
       "      <td>RESIDENCE</td>\n",
       "      <td>False</td>\n",
       "      <td>True</td>\n",
       "      <td>3.0</td>\n",
       "      <td>42.0</td>\n",
       "      <td>08B</td>\n",
       "    </tr>\n",
       "    <tr>\n",
       "      <th>2</th>\n",
       "      <td>05/03/2016 11:31:00 PM</td>\n",
       "      <td>PUBLIC PEACE VIOLATION</td>\n",
       "      <td>RECKLESS CONDUCT</td>\n",
       "      <td>STREET</td>\n",
       "      <td>False</td>\n",
       "      <td>False</td>\n",
       "      <td>15.0</td>\n",
       "      <td>25.0</td>\n",
       "      <td>24</td>\n",
       "    </tr>\n",
       "    <tr>\n",
       "      <th>3</th>\n",
       "      <td>05/03/2016 10:10:00 PM</td>\n",
       "      <td>BATTERY</td>\n",
       "      <td>SIMPLE</td>\n",
       "      <td>SIDEWALK</td>\n",
       "      <td>False</td>\n",
       "      <td>False</td>\n",
       "      <td>15.0</td>\n",
       "      <td>25.0</td>\n",
       "      <td>08B</td>\n",
       "    </tr>\n",
       "    <tr>\n",
       "      <th>4</th>\n",
       "      <td>05/03/2016 10:00:00 PM</td>\n",
       "      <td>THEFT</td>\n",
       "      <td>$500 AND UNDER</td>\n",
       "      <td>RESIDENCE</td>\n",
       "      <td>False</td>\n",
       "      <td>True</td>\n",
       "      <td>15.0</td>\n",
       "      <td>25.0</td>\n",
       "      <td>06</td>\n",
       "    </tr>\n",
       "    <tr>\n",
       "      <th>...</th>\n",
       "      <td>...</td>\n",
       "      <td>...</td>\n",
       "      <td>...</td>\n",
       "      <td>...</td>\n",
       "      <td>...</td>\n",
       "      <td>...</td>\n",
       "      <td>...</td>\n",
       "      <td>...</td>\n",
       "      <td>...</td>\n",
       "    </tr>\n",
       "    <tr>\n",
       "      <th>1456709</th>\n",
       "      <td>05/03/2016 11:33:00 PM</td>\n",
       "      <td>BATTERY</td>\n",
       "      <td>DOMESTIC BATTERY SIMPLE</td>\n",
       "      <td>APARTMENT</td>\n",
       "      <td>True</td>\n",
       "      <td>True</td>\n",
       "      <td>10.0</td>\n",
       "      <td>30.0</td>\n",
       "      <td>08B</td>\n",
       "    </tr>\n",
       "    <tr>\n",
       "      <th>1456710</th>\n",
       "      <td>05/03/2016 11:30:00 PM</td>\n",
       "      <td>CRIMINAL DAMAGE</td>\n",
       "      <td>TO PROPERTY</td>\n",
       "      <td>APARTMENT</td>\n",
       "      <td>True</td>\n",
       "      <td>True</td>\n",
       "      <td>7.0</td>\n",
       "      <td>69.0</td>\n",
       "      <td>14</td>\n",
       "    </tr>\n",
       "    <tr>\n",
       "      <th>1456711</th>\n",
       "      <td>05/03/2016 12:15:00 AM</td>\n",
       "      <td>BATTERY</td>\n",
       "      <td>AGGRAVATED: HANDGUN</td>\n",
       "      <td>SIDEWALK</td>\n",
       "      <td>False</td>\n",
       "      <td>False</td>\n",
       "      <td>8.0</td>\n",
       "      <td>66.0</td>\n",
       "      <td>04B</td>\n",
       "    </tr>\n",
       "    <tr>\n",
       "      <th>1456712</th>\n",
       "      <td>05/03/2016 09:07:00 PM</td>\n",
       "      <td>BATTERY</td>\n",
       "      <td>DOMESTIC BATTERY SIMPLE</td>\n",
       "      <td>SIDEWALK</td>\n",
       "      <td>False</td>\n",
       "      <td>True</td>\n",
       "      <td>4.0</td>\n",
       "      <td>46.0</td>\n",
       "      <td>08B</td>\n",
       "    </tr>\n",
       "    <tr>\n",
       "      <th>1456713</th>\n",
       "      <td>05/03/2016 11:38:00 PM</td>\n",
       "      <td>OTHER OFFENSE</td>\n",
       "      <td>OTHER WEAPONS VIOLATION</td>\n",
       "      <td>PARKING LOT/GARAGE(NON.RESID.)</td>\n",
       "      <td>True</td>\n",
       "      <td>False</td>\n",
       "      <td>3.0</td>\n",
       "      <td>69.0</td>\n",
       "      <td>26</td>\n",
       "    </tr>\n",
       "  </tbody>\n",
       "</table>\n",
       "<p>1456714 rows × 9 columns</p>\n",
       "</div>"
      ],
      "text/plain": [
       "                           Date            Primary Type  \\\n",
       "0        05/03/2016 11:40:00 PM                 BATTERY   \n",
       "1        05/03/2016 09:40:00 PM                 BATTERY   \n",
       "2        05/03/2016 11:31:00 PM  PUBLIC PEACE VIOLATION   \n",
       "3        05/03/2016 10:10:00 PM                 BATTERY   \n",
       "4        05/03/2016 10:00:00 PM                   THEFT   \n",
       "...                         ...                     ...   \n",
       "1456709  05/03/2016 11:33:00 PM                 BATTERY   \n",
       "1456710  05/03/2016 11:30:00 PM         CRIMINAL DAMAGE   \n",
       "1456711  05/03/2016 12:15:00 AM                 BATTERY   \n",
       "1456712  05/03/2016 09:07:00 PM                 BATTERY   \n",
       "1456713  05/03/2016 11:38:00 PM           OTHER OFFENSE   \n",
       "\n",
       "                     Description            Location Description  Arrest  \\\n",
       "0        DOMESTIC BATTERY SIMPLE                       APARTMENT    True   \n",
       "1        DOMESTIC BATTERY SIMPLE                       RESIDENCE   False   \n",
       "2               RECKLESS CONDUCT                          STREET   False   \n",
       "3                         SIMPLE                        SIDEWALK   False   \n",
       "4                 $500 AND UNDER                       RESIDENCE   False   \n",
       "...                          ...                             ...     ...   \n",
       "1456709  DOMESTIC BATTERY SIMPLE                       APARTMENT    True   \n",
       "1456710              TO PROPERTY                       APARTMENT    True   \n",
       "1456711      AGGRAVATED: HANDGUN                        SIDEWALK   False   \n",
       "1456712  DOMESTIC BATTERY SIMPLE                        SIDEWALK   False   \n",
       "1456713  OTHER WEAPONS VIOLATION  PARKING LOT/GARAGE(NON.RESID.)    True   \n",
       "\n",
       "         Domestic  District  Community Area FBI Code  \n",
       "0            True      10.0            29.0      08B  \n",
       "1            True       3.0            42.0      08B  \n",
       "2           False      15.0            25.0       24  \n",
       "3           False      15.0            25.0      08B  \n",
       "4            True      15.0            25.0       06  \n",
       "...           ...       ...             ...      ...  \n",
       "1456709      True      10.0            30.0      08B  \n",
       "1456710      True       7.0            69.0       14  \n",
       "1456711     False       8.0            66.0      04B  \n",
       "1456712      True       4.0            46.0      08B  \n",
       "1456713     False       3.0            69.0       26  \n",
       "\n",
       "[1456714 rows x 9 columns]"
      ]
     },
     "execution_count": 28,
     "metadata": {},
     "output_type": "execute_result"
    }
   ],
   "source": [
    "# Rahm Emanuel mayor in years 2011-2019\n",
    "# This dataFrame will have all crimes during Emanuel's 12-17 term\n",
    "emanuelFull = Chi12\n",
    "emanuelFull"
   ]
  },
  {
   "cell_type": "code",
   "execution_count": 29,
   "metadata": {},
   "outputs": [],
   "source": [
    "# Eliminate any rows that have NULL values, we want our data to be as \n",
    "# complete as possible from BOTH\n",
    "daleyFull = daleyFull.dropna()\n",
    "emanuelFull = emanuelFull.dropna()"
   ]
  },
  {
   "cell_type": "code",
   "execution_count": 30,
   "metadata": {},
   "outputs": [
    {
     "name": "stderr",
     "output_type": "stream",
     "text": [
      "/Users/Danny/opt/anaconda3/lib/python3.8/site-packages/pandas/core/generic.py:5303: SettingWithCopyWarning: \n",
      "A value is trying to be set on a copy of a slice from a DataFrame.\n",
      "Try using .loc[row_indexer,col_indexer] = value instead\n",
      "\n",
      "See the caveats in the documentation: https://pandas.pydata.org/pandas-docs/stable/user_guide/indexing.html#returning-a-view-versus-a-copy\n",
      "  self[name] = value\n",
      "<ipython-input-30-fee1a577fc58>:6: SettingWithCopyWarning: \n",
      "A value is trying to be set on a copy of a slice from a DataFrame.\n",
      "Try using .loc[row_indexer,col_indexer] = value instead\n",
      "\n",
      "See the caveats in the documentation: https://pandas.pydata.org/pandas-docs/stable/user_guide/indexing.html#returning-a-view-versus-a-copy\n",
      "  daleyFull['hour'] = daleyFull['Date'].apply(lambda x:x.hour)\n",
      "<ipython-input-30-fee1a577fc58>:7: SettingWithCopyWarning: \n",
      "A value is trying to be set on a copy of a slice from a DataFrame.\n",
      "Try using .loc[row_indexer,col_indexer] = value instead\n",
      "\n",
      "See the caveats in the documentation: https://pandas.pydata.org/pandas-docs/stable/user_guide/indexing.html#returning-a-view-versus-a-copy\n",
      "  daleyFull['month'] = daleyFull['Date'].apply(lambda x:x.month)\n",
      "<ipython-input-30-fee1a577fc58>:8: SettingWithCopyWarning: \n",
      "A value is trying to be set on a copy of a slice from a DataFrame.\n",
      "Try using .loc[row_indexer,col_indexer] = value instead\n",
      "\n",
      "See the caveats in the documentation: https://pandas.pydata.org/pandas-docs/stable/user_guide/indexing.html#returning-a-view-versus-a-copy\n",
      "  daleyFull['year'] = daleyFull['Date'].apply(lambda x:x.year)\n"
     ]
    }
   ],
   "source": [
    "# Adjust the Date so that it is no longer in a string format\n",
    "daleyFull.Date = pd.to_datetime(daleyFull.Date, format='%m/%d/%Y %I:%M:%S %p')\n",
    "\n",
    "# Split this up and create new columns for hour, month, and the year \n",
    "# they all took place\n",
    "daleyFull['hour'] = daleyFull['Date'].apply(lambda x:x.hour)\n",
    "daleyFull['month'] = daleyFull['Date'].apply(lambda x:x.month)\n",
    "daleyFull['year'] = daleyFull['Date'].apply(lambda x:x.year)"
   ]
  },
  {
   "cell_type": "code",
   "execution_count": 31,
   "metadata": {},
   "outputs": [
    {
     "data": {
      "text/html": [
       "<div>\n",
       "<style scoped>\n",
       "    .dataframe tbody tr th:only-of-type {\n",
       "        vertical-align: middle;\n",
       "    }\n",
       "\n",
       "    .dataframe tbody tr th {\n",
       "        vertical-align: top;\n",
       "    }\n",
       "\n",
       "    .dataframe thead th {\n",
       "        text-align: right;\n",
       "    }\n",
       "</style>\n",
       "<table border=\"1\" class=\"dataframe\">\n",
       "  <thead>\n",
       "    <tr style=\"text-align: right;\">\n",
       "      <th></th>\n",
       "      <th>Date</th>\n",
       "      <th>Primary Type</th>\n",
       "      <th>Description</th>\n",
       "      <th>Location Description</th>\n",
       "      <th>Arrest</th>\n",
       "      <th>Domestic</th>\n",
       "      <th>District</th>\n",
       "      <th>Community Area</th>\n",
       "      <th>FBI Code</th>\n",
       "      <th>hour</th>\n",
       "      <th>month</th>\n",
       "      <th>year</th>\n",
       "    </tr>\n",
       "  </thead>\n",
       "  <tbody>\n",
       "    <tr>\n",
       "      <th>0</th>\n",
       "      <td>2006-04-02 13:00:00</td>\n",
       "      <td>OTHER OFFENSE</td>\n",
       "      <td>HARASSMENT BY TELEPHONE</td>\n",
       "      <td>RESIDENCE</td>\n",
       "      <td>False</td>\n",
       "      <td>False</td>\n",
       "      <td>16.0</td>\n",
       "      <td>11.0</td>\n",
       "      <td>26</td>\n",
       "      <td>13</td>\n",
       "      <td>4</td>\n",
       "      <td>2006</td>\n",
       "    </tr>\n",
       "    <tr>\n",
       "      <th>1</th>\n",
       "      <td>2006-02-26 13:40:48</td>\n",
       "      <td>NARCOTICS</td>\n",
       "      <td>MANU/DELIVER:CRACK</td>\n",
       "      <td>SIDEWALK</td>\n",
       "      <td>True</td>\n",
       "      <td>False</td>\n",
       "      <td>3.0</td>\n",
       "      <td>42.0</td>\n",
       "      <td>18</td>\n",
       "      <td>13</td>\n",
       "      <td>2</td>\n",
       "      <td>2006</td>\n",
       "    </tr>\n",
       "    <tr>\n",
       "      <th>2</th>\n",
       "      <td>2006-01-08 23:16:00</td>\n",
       "      <td>ASSAULT</td>\n",
       "      <td>AGGRAVATED: HANDGUN</td>\n",
       "      <td>OTHER</td>\n",
       "      <td>False</td>\n",
       "      <td>False</td>\n",
       "      <td>3.0</td>\n",
       "      <td>69.0</td>\n",
       "      <td>04A</td>\n",
       "      <td>23</td>\n",
       "      <td>1</td>\n",
       "      <td>2006</td>\n",
       "    </tr>\n",
       "    <tr>\n",
       "      <th>3</th>\n",
       "      <td>2006-04-05 18:45:00</td>\n",
       "      <td>BATTERY</td>\n",
       "      <td>SIMPLE</td>\n",
       "      <td>RESIDENCE</td>\n",
       "      <td>False</td>\n",
       "      <td>False</td>\n",
       "      <td>16.0</td>\n",
       "      <td>17.0</td>\n",
       "      <td>08B</td>\n",
       "      <td>18</td>\n",
       "      <td>4</td>\n",
       "      <td>2006</td>\n",
       "    </tr>\n",
       "    <tr>\n",
       "      <th>4</th>\n",
       "      <td>2006-02-17 21:03:14</td>\n",
       "      <td>NARCOTICS</td>\n",
       "      <td>POSS: CANNABIS 30GMS OR LESS</td>\n",
       "      <td>ALLEY</td>\n",
       "      <td>True</td>\n",
       "      <td>False</td>\n",
       "      <td>8.0</td>\n",
       "      <td>65.0</td>\n",
       "      <td>18</td>\n",
       "      <td>21</td>\n",
       "      <td>2</td>\n",
       "      <td>2006</td>\n",
       "    </tr>\n",
       "  </tbody>\n",
       "</table>\n",
       "</div>"
      ],
      "text/plain": [
       "                 Date   Primary Type                   Description  \\\n",
       "0 2006-04-02 13:00:00  OTHER OFFENSE       HARASSMENT BY TELEPHONE   \n",
       "1 2006-02-26 13:40:48      NARCOTICS            MANU/DELIVER:CRACK   \n",
       "2 2006-01-08 23:16:00        ASSAULT           AGGRAVATED: HANDGUN   \n",
       "3 2006-04-05 18:45:00        BATTERY                        SIMPLE   \n",
       "4 2006-02-17 21:03:14      NARCOTICS  POSS: CANNABIS 30GMS OR LESS   \n",
       "\n",
       "  Location Description  Arrest  Domestic  District  Community Area FBI Code  \\\n",
       "0            RESIDENCE   False     False      16.0            11.0       26   \n",
       "1             SIDEWALK    True     False       3.0            42.0       18   \n",
       "2                OTHER   False     False       3.0            69.0      04A   \n",
       "3            RESIDENCE   False     False      16.0            17.0      08B   \n",
       "4                ALLEY    True     False       8.0            65.0       18   \n",
       "\n",
       "   hour  month  year  \n",
       "0    13      4  2006  \n",
       "1    13      2  2006  \n",
       "2    23      1  2006  \n",
       "3    18      4  2006  \n",
       "4    21      2  2006  "
      ]
     },
     "execution_count": 31,
     "metadata": {},
     "output_type": "execute_result"
    }
   ],
   "source": [
    "#Just to look at the new output\n",
    "daleyFull.head()"
   ]
  },
  {
   "cell_type": "code",
   "execution_count": 32,
   "metadata": {},
   "outputs": [
    {
     "name": "stderr",
     "output_type": "stream",
     "text": [
      "/Users/Danny/opt/anaconda3/lib/python3.8/site-packages/pandas/core/generic.py:5303: SettingWithCopyWarning: \n",
      "A value is trying to be set on a copy of a slice from a DataFrame.\n",
      "Try using .loc[row_indexer,col_indexer] = value instead\n",
      "\n",
      "See the caveats in the documentation: https://pandas.pydata.org/pandas-docs/stable/user_guide/indexing.html#returning-a-view-versus-a-copy\n",
      "  self[name] = value\n",
      "<ipython-input-32-e3dcee2408a2>:6: SettingWithCopyWarning: \n",
      "A value is trying to be set on a copy of a slice from a DataFrame.\n",
      "Try using .loc[row_indexer,col_indexer] = value instead\n",
      "\n",
      "See the caveats in the documentation: https://pandas.pydata.org/pandas-docs/stable/user_guide/indexing.html#returning-a-view-versus-a-copy\n",
      "  emanuelFull['hour'] = emanuelFull['Date'].apply(lambda x:x.hour)\n",
      "<ipython-input-32-e3dcee2408a2>:7: SettingWithCopyWarning: \n",
      "A value is trying to be set on a copy of a slice from a DataFrame.\n",
      "Try using .loc[row_indexer,col_indexer] = value instead\n",
      "\n",
      "See the caveats in the documentation: https://pandas.pydata.org/pandas-docs/stable/user_guide/indexing.html#returning-a-view-versus-a-copy\n",
      "  emanuelFull['month'] = emanuelFull['Date'].apply(lambda x:x.month)\n",
      "<ipython-input-32-e3dcee2408a2>:8: SettingWithCopyWarning: \n",
      "A value is trying to be set on a copy of a slice from a DataFrame.\n",
      "Try using .loc[row_indexer,col_indexer] = value instead\n",
      "\n",
      "See the caveats in the documentation: https://pandas.pydata.org/pandas-docs/stable/user_guide/indexing.html#returning-a-view-versus-a-copy\n",
      "  emanuelFull['year'] = emanuelFull['Date'].apply(lambda x:x.year)\n"
     ]
    }
   ],
   "source": [
    "# Adjust the Date so that it is no longer in a string format\n",
    "emanuelFull.Date = pd.to_datetime(emanuelFull.Date, format='%m/%d/%Y %I:%M:%S %p')\n",
    "\n",
    "# Split this up and create new columns for hour, month, and the year \n",
    "# they all took place\n",
    "emanuelFull['hour'] = emanuelFull['Date'].apply(lambda x:x.hour)\n",
    "emanuelFull['month'] = emanuelFull['Date'].apply(lambda x:x.month)\n",
    "emanuelFull['year'] = emanuelFull['Date'].apply(lambda x:x.year)"
   ]
  },
  {
   "cell_type": "code",
   "execution_count": 33,
   "metadata": {},
   "outputs": [
    {
     "data": {
      "text/html": [
       "<div>\n",
       "<style scoped>\n",
       "    .dataframe tbody tr th:only-of-type {\n",
       "        vertical-align: middle;\n",
       "    }\n",
       "\n",
       "    .dataframe tbody tr th {\n",
       "        vertical-align: top;\n",
       "    }\n",
       "\n",
       "    .dataframe thead th {\n",
       "        text-align: right;\n",
       "    }\n",
       "</style>\n",
       "<table border=\"1\" class=\"dataframe\">\n",
       "  <thead>\n",
       "    <tr style=\"text-align: right;\">\n",
       "      <th></th>\n",
       "      <th>Date</th>\n",
       "      <th>Primary Type</th>\n",
       "      <th>Description</th>\n",
       "      <th>Location Description</th>\n",
       "      <th>Arrest</th>\n",
       "      <th>Domestic</th>\n",
       "      <th>District</th>\n",
       "      <th>Community Area</th>\n",
       "      <th>FBI Code</th>\n",
       "      <th>hour</th>\n",
       "      <th>month</th>\n",
       "      <th>year</th>\n",
       "    </tr>\n",
       "  </thead>\n",
       "  <tbody>\n",
       "    <tr>\n",
       "      <th>0</th>\n",
       "      <td>2016-05-03 23:40:00</td>\n",
       "      <td>BATTERY</td>\n",
       "      <td>DOMESTIC BATTERY SIMPLE</td>\n",
       "      <td>APARTMENT</td>\n",
       "      <td>True</td>\n",
       "      <td>True</td>\n",
       "      <td>10.0</td>\n",
       "      <td>29.0</td>\n",
       "      <td>08B</td>\n",
       "      <td>23</td>\n",
       "      <td>5</td>\n",
       "      <td>2016</td>\n",
       "    </tr>\n",
       "    <tr>\n",
       "      <th>1</th>\n",
       "      <td>2016-05-03 21:40:00</td>\n",
       "      <td>BATTERY</td>\n",
       "      <td>DOMESTIC BATTERY SIMPLE</td>\n",
       "      <td>RESIDENCE</td>\n",
       "      <td>False</td>\n",
       "      <td>True</td>\n",
       "      <td>3.0</td>\n",
       "      <td>42.0</td>\n",
       "      <td>08B</td>\n",
       "      <td>21</td>\n",
       "      <td>5</td>\n",
       "      <td>2016</td>\n",
       "    </tr>\n",
       "    <tr>\n",
       "      <th>2</th>\n",
       "      <td>2016-05-03 23:31:00</td>\n",
       "      <td>PUBLIC PEACE VIOLATION</td>\n",
       "      <td>RECKLESS CONDUCT</td>\n",
       "      <td>STREET</td>\n",
       "      <td>False</td>\n",
       "      <td>False</td>\n",
       "      <td>15.0</td>\n",
       "      <td>25.0</td>\n",
       "      <td>24</td>\n",
       "      <td>23</td>\n",
       "      <td>5</td>\n",
       "      <td>2016</td>\n",
       "    </tr>\n",
       "    <tr>\n",
       "      <th>3</th>\n",
       "      <td>2016-05-03 22:10:00</td>\n",
       "      <td>BATTERY</td>\n",
       "      <td>SIMPLE</td>\n",
       "      <td>SIDEWALK</td>\n",
       "      <td>False</td>\n",
       "      <td>False</td>\n",
       "      <td>15.0</td>\n",
       "      <td>25.0</td>\n",
       "      <td>08B</td>\n",
       "      <td>22</td>\n",
       "      <td>5</td>\n",
       "      <td>2016</td>\n",
       "    </tr>\n",
       "    <tr>\n",
       "      <th>4</th>\n",
       "      <td>2016-05-03 22:00:00</td>\n",
       "      <td>THEFT</td>\n",
       "      <td>$500 AND UNDER</td>\n",
       "      <td>RESIDENCE</td>\n",
       "      <td>False</td>\n",
       "      <td>True</td>\n",
       "      <td>15.0</td>\n",
       "      <td>25.0</td>\n",
       "      <td>06</td>\n",
       "      <td>22</td>\n",
       "      <td>5</td>\n",
       "      <td>2016</td>\n",
       "    </tr>\n",
       "  </tbody>\n",
       "</table>\n",
       "</div>"
      ],
      "text/plain": [
       "                 Date            Primary Type              Description  \\\n",
       "0 2016-05-03 23:40:00                 BATTERY  DOMESTIC BATTERY SIMPLE   \n",
       "1 2016-05-03 21:40:00                 BATTERY  DOMESTIC BATTERY SIMPLE   \n",
       "2 2016-05-03 23:31:00  PUBLIC PEACE VIOLATION         RECKLESS CONDUCT   \n",
       "3 2016-05-03 22:10:00                 BATTERY                   SIMPLE   \n",
       "4 2016-05-03 22:00:00                   THEFT           $500 AND UNDER   \n",
       "\n",
       "  Location Description  Arrest  Domestic  District  Community Area FBI Code  \\\n",
       "0            APARTMENT    True      True      10.0            29.0      08B   \n",
       "1            RESIDENCE   False      True       3.0            42.0      08B   \n",
       "2               STREET   False     False      15.0            25.0       24   \n",
       "3             SIDEWALK   False     False      15.0            25.0      08B   \n",
       "4            RESIDENCE   False      True      15.0            25.0       06   \n",
       "\n",
       "   hour  month  year  \n",
       "0    23      5  2016  \n",
       "1    21      5  2016  \n",
       "2    23      5  2016  \n",
       "3    22      5  2016  \n",
       "4    22      5  2016  "
      ]
     },
     "execution_count": 33,
     "metadata": {},
     "output_type": "execute_result"
    }
   ],
   "source": [
    "#Look at the new output\n",
    "emanuelFull.head()"
   ]
  },
  {
   "cell_type": "code",
   "execution_count": 34,
   "metadata": {},
   "outputs": [],
   "source": [
    "#Sort the data sets based on the years the crimes took place\n",
    "daleyFull = daleyFull.sort_values('year', ascending=True, kind='quicksort')\n",
    "emanuelFull = emanuelFull.sort_values('year', ascending=True, kind='quicksort')"
   ]
  },
  {
   "cell_type": "code",
   "execution_count": null,
   "metadata": {},
   "outputs": [],
   "source": []
  },
  {
   "cell_type": "code",
   "execution_count": 35,
   "metadata": {},
   "outputs": [
    {
     "data": {
      "image/png": "[encoded data removed]",
      "text/plain": [
       "<Figure size 432x288 with 1 Axes>"
      ]
     },
     "metadata": {
      "needs_background": "light"
     },
     "output_type": "display_data"
    }
   ],
   "source": [
    "# Top 15 primary types between Daley as mayor\n",
    "daleyGraph = sns.countplot(y='Primary Type', data = daleyFull, order=daleyFull['Primary Type'].value_counts().iloc[:15].index)\n",
    "daleyGraph.set(xlabel='Number of Crimes', ylabel='Crime', title = 'Top 15 Crimes During Mayor Daley Office of 2005-2011');"
   ]
  },
  {
   "cell_type": "code",
   "execution_count": 36,
   "metadata": {},
   "outputs": [
    {
     "data": {
      "image/png": "[encoded data removed]",
      "text/plain": [
       "<Figure size 432x288 with 1 Axes>"
      ]
     },
     "metadata": {
      "needs_background": "light"
     },
     "output_type": "display_data"
    }
   ],
   "source": [
    "# Top 15 primary types between Emanuel as mayor\n",
    "emanuelGraph = sns.countplot(y='Primary Type', data = emanuelFull, order=emanuelFull['Primary Type'].value_counts().iloc[:15].index)\n",
    "emanuelGraph.set(xlabel='Number of Crimes', ylabel='Crime', title = 'Top 15 Crimes During Mayor Emanuel Office of 2012-2017');"
   ]
  },
  {
   "cell_type": "code",
   "execution_count": 37,
   "metadata": {},
   "outputs": [
    {
     "data": {
      "text/plain": [
       "Text(0, 0.5, 'Number of Crimes')"
      ]
     },
     "execution_count": 37,
     "metadata": {},
     "output_type": "execute_result"
    },
    {
     "data": {
      "image/png": "[encoded data removed]",
      "text/plain": [
       "<Figure size 432x288 with 1 Axes>"
      ]
     },
     "metadata": {
      "needs_background": "light"
     },
     "output_type": "display_data"
    }
   ],
   "source": [
    "test = daleyFull.groupby('District')[['Primary Type']].count()\n",
    "test['Primary Type'].plot(kind = 'bar', color='#b2b2ff')\n",
    "plt.title('Number of Crimes During Mayor Daley (2005-2011)')\n",
    "plt.ylabel('Number of Crimes')"
   ]
  },
  {
   "cell_type": "code",
   "execution_count": 38,
   "metadata": {},
   "outputs": [
    {
     "data": {
      "text/plain": [
       "Text(0, 0.5, 'Number of Crimes')"
      ]
     },
     "execution_count": 38,
     "metadata": {},
     "output_type": "execute_result"
    },
    {
     "data": {
      "image/png": "[encoded data removed]",
      "text/plain": [
       "<Figure size 432x288 with 1 Axes>"
      ]
     },
     "metadata": {
      "needs_background": "light"
     },
     "output_type": "display_data"
    }
   ],
   "source": [
    "test2 = emanuelFull.groupby('District')[['Primary Type']].count()\n",
    "test2['Primary Type'].plot(kind = 'bar', color='#ffb2b2')\n",
    "plt.title('Number of Crimes During Mayor Emanuel (2012-2017)')\n",
    "plt.ylabel('Number of Crimes')"
   ]
  },
  {
   "cell_type": "code",
   "execution_count": 39,
   "metadata": {
    "scrolled": true
   },
   "outputs": [
    {
     "data": {
      "image/png": "[encoded data removed]",
      "text/plain": [
       "<Figure size 432x288 with 1 Axes>"
      ]
     },
     "metadata": {
      "needs_background": "light"
     },
     "output_type": "display_data"
    }
   ],
   "source": [
    "plt.hist(emanuelFull.District, bins = 31, color = 'red',alpha = 0.5, edgecolor = 'black')\n",
    "plt.hist(daleyFull.District, bins = 31, color = 'blue',alpha = 0.5, edgecolor = 'black')\n",
    "plt.title(\"District Crime Rate Comparison: Emanuel (r) v. Daley (b)\")\n",
    "plt.ylabel('Number of Crimes')\n",
    "plt.xlabel('District');"
   ]
  },
  {
   "cell_type": "code",
   "execution_count": 47,
   "metadata": {},
   "outputs": [
    {
     "data": {
      "image/png": "[encoded data removed]",
      "text/plain": [
       "<Figure size 720x432 with 1 Axes>"
      ]
     },
     "metadata": {
      "needs_background": "light"
     },
     "output_type": "display_data"
    }
   ],
   "source": [
    "# Daley's term for the years\n",
    "plt.figure(figsize=(10,6))\n",
    "ax = sns.barplot(x='year', y='THEFT', data=daleyFull.groupby(['year'])['Primary Type'].value_counts().unstack().reset_index(), color='#b2b2ff')\n",
    "ax.set(xlabel='Year', ylabel='Number of Thefts', title = 'Number of Thefts Each Year During Mayor Daley Office');"
   ]
  },
  {
   "cell_type": "code",
   "execution_count": 41,
   "metadata": {},
   "outputs": [
    {
     "data": {
      "image/png": "[encoded data removed]",
      "text/plain": [
       "<Figure size 720x432 with 1 Axes>"
      ]
     },
     "metadata": {
      "needs_background": "light"
     },
     "output_type": "display_data"
    }
   ],
   "source": [
    "# Emanuel's term for the years\n",
    "plt.figure(figsize=(10,6))\n",
    "ax = sns.barplot(x='year', y='THEFT', data=emanuelFull.groupby(['year'])['Primary Type'].value_counts().unstack().reset_index(), color='#ffb2b2')\n",
    "ax.set(xlabel='Year', ylabel='Number of Thefts', title = 'Number of Thefts Each Year During Mayor Emanuel Office');"
   ]
  },
  {
   "cell_type": "code",
   "execution_count": 42,
   "metadata": {},
   "outputs": [
    {
     "data": {
      "image/png": "[encoded data removed]",
      "text/plain": [
       "<Figure size 720x432 with 1 Axes>"
      ]
     },
     "metadata": {
      "needs_background": "light"
     },
     "output_type": "display_data"
    }
   ],
   "source": [
    "# Daley's term for the months\n",
    "plt.figure(figsize=(10,6))\n",
    "ax = sns.barplot(x='month', y='THEFT', data=daleyFull.groupby(['month'])['Primary Type'].value_counts().unstack().reset_index(), color='#b2b2ff');\n",
    "plt.title('Number of Thefts By the Month During Mayor Daley Office')\n",
    "ax.set(xlabel='Month', ylabel='Number of Thefts');\n",
    "\n",
    "# Jan - Dec for the years 2008-2011 during Mayor Daley Office\n"
   ]
  },
  {
   "cell_type": "code",
   "execution_count": 43,
   "metadata": {},
   "outputs": [
    {
     "data": {
      "image/png": "[encoded data removed]",
      "text/plain": [
       "<Figure size 720x432 with 1 Axes>"
      ]
     },
     "metadata": {
      "needs_background": "light"
     },
     "output_type": "display_data"
    }
   ],
   "source": [
    "# Emanuel's term for the months\n",
    "plt.figure(figsize=(10,6))\n",
    "ax = sns.barplot(x='month', y='THEFT', data=emanuelFull.groupby(['month'])['Primary Type'].value_counts().unstack().reset_index(), color='#ffb2b2');\n",
    "plt.title('Number of Thefts By the Month During Mayor Emanuel Office')\n",
    "ax.set(xlabel='Month', ylabel='Number of Thefts');\n",
    "\n",
    "# Jan - Dec for the years 20012-2017 during Mayor Emanuel Office"
   ]
  },
  {
   "cell_type": "code",
   "execution_count": 44,
   "metadata": {},
   "outputs": [
    {
     "data": {
      "text/plain": [
       "[Text(0, 0.5, 'Number of Thefts'), Text(0.5, 0, 'Month')]"
      ]
     },
     "execution_count": 44,
     "metadata": {},
     "output_type": "execute_result"
    },
    {
     "data": {
      "image/png": "[encoded data removed]",
      "text/plain": [
       "<Figure size 432x288 with 1 Axes>"
      ]
     },
     "metadata": {
      "needs_background": "light"
     },
     "output_type": "display_data"
    }
   ],
   "source": [
    "ax = sns.barplot(x='month', y='THEFT', data=daleyFull.groupby(['month'])['Primary Type'].value_counts().unstack().reset_index(), color='#b2b2ff');\n",
    "ax = sns.barplot(x='month', y='THEFT', data=emanuelFull.groupby(['month'])['Primary Type'].value_counts().unstack().reset_index(), color='#ffb2b2');\n",
    "plt.title('Total Thefts for Each Month: Emanuel (r) v. Daley (b)')\n",
    "ax.set(xlabel='Month', ylabel='Number of Thefts')\n",
    "\n",
    "# Jan - Dec for the years 2005-2011 during Mayor Daley Office\n",
    "# Jan - Dec for the years 2012-2017 during Mayor Emanuel Office"
   ]
  },
  {
   "cell_type": "code",
   "execution_count": 45,
   "metadata": {},
   "outputs": [
    {
     "data": {
      "image/png": "[encoded data removed]",
      "text/plain": [
       "<Figure size 432x288 with 1 Axes>"
      ]
     },
     "metadata": {
      "needs_background": "light"
     },
     "output_type": "display_data"
    }
   ],
   "source": [
    "Year = [2005, 2006, 2007, 2008, 2009, 2010, 2011, 2012, 2013, 2014, 2015, 2016, 2017]\n",
    "Poverty_Rate = [12.6, 12.3, 12.5, 13.2, 14.3, 15.1, 15.0, 15.0, 14.8, 14.8, 13.5, 12.7, 12.3]\n",
    "plt.plot(Year, Poverty_Rate, marker = '.', color = 'black')\n",
    "z2 = np.array(Poverty_Rate)\n",
    "\n",
    "for x, y in zip(Year, Poverty_Rate):\n",
    "    label = '{:.1f}'.format(y)\n",
    "\n",
    "    plt.annotate(label, \n",
    "                 (x,y),\n",
    "                 textcoords = 'offset points',\n",
    "                 xytext = (0, 10),\n",
    "                 ha = 'center',\n",
    "                 rotation = '45')\n",
    "\n",
    "plt.title('USA National Poverty Rates: 2005-2017')\n",
    "plt.xlabel('Year')\n",
    "plt.ylabel('Poverty Rate (%)')\n",
    "z1 = np.array(Year)\n",
    "plt.fill_between(Year, Poverty_Rate, where = (z1 <= 2011), \n",
    "                 alpha = 0.30, color = 'red')\n",
    "plt.fill_between(Year, Poverty_Rate, where = (z1 >= 2011), \n",
    "                 alpha = 0.30, color = 'blue')\n",
    "plt.ylim([0, 20])\n",
    "plt.yticks(np.arange(0, 22, 2));\n",
    "plt.xticks(np.arange(2005, 2018, 1), rotation = '45');\n",
    "\n",
    "# Red = Mayor Emanuel\n",
    "# Blue = Mayor Daley"
   ]
  },
  {
   "cell_type": "code",
   "execution_count": 46,
   "metadata": {},
   "outputs": [
    {
     "data": {
      "text/plain": [
       "[Text(0, 0.5, 'Prositution Reports'), Text(0.5, 0, 'Month')]"
      ]
     },
     "execution_count": 46,
     "metadata": {},
     "output_type": "execute_result"
    },
    {
     "data": {
      "image/png": "[encoded data removed]",
      "text/plain": [
       "<Figure size 432x288 with 1 Axes>"
      ]
     },
     "metadata": {
      "needs_background": "light"
     },
     "output_type": "display_data"
    }
   ],
   "source": [
    "ax = sns.barplot(x='month', y='PROSTITUTION', data=daleyFull.groupby(['month'])['Primary Type'].value_counts().unstack().reset_index(), color='#b2b2ff');\n",
    "ax = sns.barplot(x='month', y='PROSTITUTION', data=emanuelFull.groupby(['month'])['Primary Type'].value_counts().unstack().reset_index(), color='#ffb2b2');\n",
    "plt.title('Prostition Reports for Each Month: Emanuel (r) v. Daley (b)')\n",
    "ax.set(xlabel='Month', ylabel='Prositution Reports')"
   ]
  },
  {
   "cell_type": "code",
   "execution_count": null,
   "metadata": {},
   "outputs": [],
   "source": []
  }
 ],
 "metadata": {
  "kernelspec": {
   "display_name": "Python 3",
   "language": "python",
   "name": "python3"
  },
  "language_info": {
   "codemirror_mode": {
    "name": "ipython",
    "version": 3
   },
   "file_extension": ".py",
   "mimetype": "text/x-python",
   "name": "python",
   "nbconvert_exporter": "python",
   "pygments_lexer": "ipython3",
   "version": "3.8.3"
  }
 },
 "nbformat": 4,
 "nbformat_minor": 4
}
